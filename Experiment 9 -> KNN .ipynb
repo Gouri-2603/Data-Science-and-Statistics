{
 "cells": [
  {
   "cell_type": "code",
   "execution_count": 1,
   "id": "1746a433-92ad-48ae-9d8c-4c7d07ccf26d",
   "metadata": {},
   "outputs": [],
   "source": [
    "# Exp no.: 9"
   ]
  },
  {
   "cell_type": "code",
   "execution_count": 2,
   "id": "d0358c54-0e4c-44a5-8e63-af918b6422a0",
   "metadata": {},
   "outputs": [],
   "source": [
    "#Aim: To perform operations on KNN classifier"
   ]
  },
  {
   "cell_type": "code",
   "execution_count": 3,
   "id": "4c7c6701-ad58-4649-a9aa-c2e097aa3cd5",
   "metadata": {},
   "outputs": [],
   "source": [
    "# Name: Gouri Pandey"
   ]
  },
  {
   "cell_type": "code",
   "execution_count": 4,
   "id": "6bbb3c65-f03c-43f4-805e-b0e6bdfaa489",
   "metadata": {},
   "outputs": [],
   "source": [
    "# Roll no : 46"
   ]
  },
  {
   "cell_type": "code",
   "execution_count": 5,
   "id": "a8e022bb-4b9f-46c2-8bc1-a663e6df94a6",
   "metadata": {},
   "outputs": [],
   "source": [
    "# sec: B"
   ]
  },
  {
   "cell_type": "code",
   "execution_count": 6,
   "id": "b3a0bd7f-fea9-434e-ada3-220f6c82c44b",
   "metadata": {},
   "outputs": [],
   "source": [
    "# subject: DSS ( Data science and statistics )"
   ]
  },
  {
   "cell_type": "code",
   "execution_count": 40,
   "id": "c871ede6-a2ab-49da-8975-89133c78c29d",
   "metadata": {},
   "outputs": [],
   "source": [
    " # Import libraries\n",
    "import numpy as np\n",
    "import pandas as pd\n",
    "import matplotlib.pyplot as plt\n",
    "import seaborn as sns"
   ]
  },
  {
   "cell_type": "code",
   "execution_count": 33,
   "id": "a0bfb66e-937b-43ef-847a-61a596cc0b53",
   "metadata": {},
   "outputs": [],
   "source": [
    "# 1. Load dataset\n",
    "iris = load_iris()\n",
    "X = iris.data\n",
    "y = iris.target"
   ]
  },
  {
   "cell_type": "code",
   "execution_count": 34,
   "id": "1a7fb21b-e80f-4078-b383-0d58d20358de",
   "metadata": {},
   "outputs": [],
   "source": [
    "# 2. Split data into train and test sets (80% train, 20% test)\n",
    "X_train, X_test, y_train, y_test = train_test_split(\n",
    "    X, y, test_size=0.2, random_state=42\n",
    ")"
   ]
  },
  {
   "cell_type": "code",
   "execution_count": 35,
   "id": "4041a226-a727-448c-8019-dda5af143bf1",
   "metadata": {},
   "outputs": [],
   "source": [
    "# 3. Create KNN model (using 5 neighbors)\n",
    "knn = KNeighborsClassifier(n_neighbors=5)"
   ]
  },
  {
   "cell_type": "code",
   "execution_count": 36,
   "id": "0920d01e-41ee-4cd8-b44b-d755724b228f",
   "metadata": {},
   "outputs": [],
   "source": [
    "# 4. Train the model\n",
    "knn.fit(X_train, y_train)\n",
    "\n",
    "# 5. Make predictions on the test set\n",
    "y_pred = knn.predict(X_test)"
   ]
  },
  {
   "cell_type": "code",
   "execution_count": 37,
   "id": "e4cf2c60-4f68-49f9-8ccd-b2a31ff2e677",
   "metadata": {},
   "outputs": [
    {
     "name": "stdout",
     "output_type": "stream",
     "text": [
      "Accuracy: 1.00\n",
      "\n",
      "Classification Report:\n",
      "               precision    recall  f1-score   support\n",
      "\n",
      "           0       1.00      1.00      1.00        10\n",
      "           1       1.00      1.00      1.00         9\n",
      "           2       1.00      1.00      1.00        11\n",
      "\n",
      "    accuracy                           1.00        30\n",
      "   macro avg       1.00      1.00      1.00        30\n",
      "weighted avg       1.00      1.00      1.00        30\n",
      "\n"
     ]
    }
   ],
   "source": [
    "# 6. Evaluate the model\n",
    "accuracy = accuracy_score(y_test, y_pred)\n",
    "print(f\"Accuracy: {accuracy:.2f}\")\n",
    "print(\"\\nClassification Report:\\n\", classification_report(y_test, y_pred))"
   ]
  },
  {
   "cell_type": "code",
   "execution_count": 38,
   "id": "3bda82aa-46e6-4a75-a1d4-ad5829708828",
   "metadata": {},
   "outputs": [],
   "source": [
    "# 6. Confusion Matrix\n",
    "cm = confusion_matrix(y_test, y_pred)\n",
    "labels = sorted(np.unique(y_test))  # Class labels\n",
    "cm_df = pd.DataFrame(cm, index=labels, columns=labels)"
   ]
  },
  {
   "cell_type": "code",
   "execution_count": 39,
   "id": "70e60ea1-beb2-4f10-9cf3-359d77fb7fa7",
   "metadata": {},
   "outputs": [
    {
     "data": {
      "image/png": "[encoded data removed]",
      "text/plain": [
       "<Figure size 600x400 with 2 Axes>"
      ]
     },
     "metadata": {},
     "output_type": "display_data"
    }
   ],
   "source": [
    " # 7. Plot confusion matrix\n",
    "plt.figure(figsize=(6, 4))\n",
    "sns.heatmap(cm_df, annot=True, fmt='d', cmap='Blues', linewidths=1, linecolor='black')\n",
    "plt.xlabel(\"Predicted Label\")\n",
    "plt.ylabel(\"True Label\")\n",
    "plt.title(\"Confusion Matrix\")\n",
    "plt.show()"
   ]
  },
  {
   "cell_type": "code",
   "execution_count": null,
   "id": "d4860039-d6f5-4799-a02f-b330e809fab4",
   "metadata": {},
   "outputs": [],
   "source": []
  }
 ],
 "metadata": {
  "kernelspec": {
   "display_name": "Python [conda env:base] *",
   "language": "python",
   "name": "conda-base-py"
  },
  "language_info": {
   "codemirror_mode": {
    "name": "ipython",
    "version": 3
   },
   "file_extension": ".py",
   "mimetype": "text/x-python",
   "name": "python",
   "nbconvert_exporter": "python",
   "pygments_lexer": "ipython3",
   "version": "3.13.5"
  }
 },
 "nbformat": 4,
 "nbformat_minor": 5
}
