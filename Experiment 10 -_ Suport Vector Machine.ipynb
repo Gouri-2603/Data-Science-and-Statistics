{
 "cells": [
  {
   "cell_type": "code",
   "execution_count": 1,
   "id": "747e2add-6a9c-4134-980a-63f34380cb40",
   "metadata": {},
   "outputs": [],
   "source": [
    "# Exp no.: 9"
   ]
  },
  {
   "cell_type": "code",
   "execution_count": 2,
   "id": "59db6ee9-96b6-476a-8f19-7bf4d7372391",
   "metadata": {},
   "outputs": [],
   "source": [
    "#Aim: To perform operations on KNN classifier"
   ]
  },
  {
   "cell_type": "code",
   "execution_count": 3,
   "id": "e8f26a1e-0414-48d0-8763-d74e754dc91f",
   "metadata": {},
   "outputs": [],
   "source": [
    "# Name: Gouri Pandey"
   ]
  },
  {
   "cell_type": "code",
   "execution_count": 4,
   "id": "b248e10f-4c2e-4bca-a61e-20a773d65e57",
   "metadata": {},
   "outputs": [],
   "source": [
    "# Roll no : 46"
   ]
  },
  {
   "cell_type": "code",
   "execution_count": 5,
   "id": "abba2527-0c87-47a7-abca-504cc56726c7",
   "metadata": {},
   "outputs": [],
   "source": [
    "# sec: B"
   ]
  },
  {
   "cell_type": "code",
   "execution_count": 6,
   "id": "d64078be-9e8c-49fd-b5a1-fe13cc977157",
   "metadata": {},
   "outputs": [],
   "source": [
    "# subject: DSS ( Data science and statistics )"
   ]
  },
  {
   "cell_type": "code",
   "execution_count": 7,
   "id": "e1032ab2-acbe-4098-ab28-6a8555fd9557",
   "metadata": {},
   "outputs": [],
   "source": [
    "# Import necessary libraries\n",
    "import numpy as np\n",
    "from sklearn import svm\n",
    "from sklearn.metrics import accuracy_score, classification_report, confusion_matrix\n",
    "from sklearn.model_selection import train_test_split, GridSearchCV\n",
    "from sklearn.preprocessing import StandardScaler\n",
    "from sklearn.datasets import load_iris "
   ]
  },
  {
   "cell_type": "code",
   "execution_count": 8,
   "id": "0f3ad66e-02fb-4c17-928c-6b994ee03929",
   "metadata": {},
   "outputs": [],
   "source": [
    "# Step 1: Load Data\n",
    "data = load_iris()  # Example dataset\n",
    "X = data.data\n",
    "y = data.target"
   ]
  },
  {
   "cell_type": "code",
   "execution_count": 9,
   "id": "a08e6494-8d5d-46ce-9280-47f5854f0e7b",
   "metadata": {},
   "outputs": [],
   "source": [
    "# Check if data is valid\n",
    "if X.size == 0 or y.size == 0:\n",
    "    raise ValueError(\"Dataset is empty. Please provide valid input features and labels.\")"
   ]
  },
  {
   "cell_type": "code",
   "execution_count": 10,
   "id": "2b1165ed-a06b-4dc4-9d02-046ce18560f1",
   "metadata": {},
   "outputs": [],
   "source": [
    "# Step 2: Split Data\n",
    "x_train, x_test, y_train, y_test = train_test_split(\n",
    "    X, y, test_size=0.2, random_state=42, stratify=y\n",
    ")"
   ]
  },
  {
   "cell_type": "code",
   "execution_count": 11,
   "id": "be4d37a0-cd46-40af-9b9d-0f9f522dffeb",
   "metadata": {},
   "outputs": [],
   "source": [
    "# Step 3: Feature Scaling\n",
    "# SVM is sensitive to feature scaling, so we standardize the features\n",
    "scaler = StandardScaler()\n",
    "x_train = scaler.fit_transform(x_train)\n",
    "x_test = scaler.transform(x_test)"
   ]
  },
  {
   "cell_type": "code",
   "execution_count": 13,
   "id": "46015e39-4102-4ee5-ab86-0ab590cf6840",
   "metadata": {},
   "outputs": [],
   "source": [
    "# Step 4: Initialize SVM\n",
    "# -------------------------------\n",
    "classifier = svm.SVC(kernel='rbf', C=1.0, gamma='scale', random_state=42)\n",
    "\n",
    "param_grid = {\n",
    "    'C': [0.1, 1, 10, 100],\n",
    "    'gamma': ['scale', 'auto', 0.01, 0.1, 1],\n",
    "    'kernel': ['rbf', 'linear', 'poly']\n",
    "}\n",
    "\n"
   ]
  }
 ],
 "metadata": {
  "kernelspec": {
   "display_name": "Python [conda env:base] *",
   "language": "python",
   "name": "conda-base-py"
  },
  "language_info": {
   "codemirror_mode": {
    "name": "ipython",
    "version": 3
   },
   "file_extension": ".py",
   "mimetype": "text/x-python",
   "name": "python",
   "nbconvert_exporter": "python",
   "pygments_lexer": "ipython3",
   "version": "3.13.5"
  }
 },
 "nbformat": 4,
 "nbformat_minor": 5
}
