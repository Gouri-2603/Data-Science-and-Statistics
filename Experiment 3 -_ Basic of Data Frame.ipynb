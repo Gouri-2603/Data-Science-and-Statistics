{
 "cells": [
  {
   "cell_type": "code",
   "execution_count": 1,
   "id": "337b00d3-e9bb-4382-9241-99a0cabe2864",
   "metadata": {},
   "outputs": [],
   "source": [
    "# Exp no.: 3"
   ]
  },
  {
   "cell_type": "code",
   "execution_count": null,
   "id": "0e940e0e-74cf-4c97-a5cd-31fb447399d6",
   "metadata": {},
   "outputs": [],
   "source": [
    "#Aim: To perform Basics of Data Frame"
   ]
  },
  {
   "cell_type": "code",
   "execution_count": null,
   "id": "3f4fc5e9-7ac0-41b8-b680-250423b2421f",
   "metadata": {},
   "outputs": [],
   "source": [
    "# Name: Gouri Pandey"
   ]
  },
  {
   "cell_type": "code",
   "execution_count": null,
   "id": "956addbd-eac9-4e77-a707-063cbf8cc7e0",
   "metadata": {},
   "outputs": [],
   "source": [
    "# Roll no : 46"
   ]
  },
  {
   "cell_type": "code",
   "execution_count": null,
   "id": "8065d729-5a7d-4502-98bc-538d47384320",
   "metadata": {},
   "outputs": [],
   "source": [
    "# sec: B"
   ]
  },
  {
   "cell_type": "code",
   "execution_count": null,
   "id": "8f474f94-4678-4b73-99de-f576a5e2c2a3",
   "metadata": {},
   "outputs": [],
   "source": [
    "# subject: DSS ( Data science and statistics )"
   ]
  },
  {
   "cell_type": "code",
   "execution_count": null,
   "id": "fc86a3dd-e93d-49fc-b394-75f52ac1a9cd",
   "metadata": {},
   "outputs": [],
   "source": [
    "# Importing the basic Library"
   ]
  },
  {
   "cell_type": "markdown",
   "id": "2261aaf4-8aaf-45b4-997a-faf3ef8eabe5",
   "metadata": {},
   "source": [
    "# Creating Series"
   ]
  },
  {
   "cell_type": "code",
   "execution_count": null,
   "id": "c36b31c3-f9e7-47cb-aa5b-c3d1116c53be",
   "metadata": {},
   "outputs": [],
   "source": [
    "import pandas as pd"
   ]
  },
  {
   "cell_type": "code",
   "execution_count": 2,
   "id": "8d4f425f-d72f-48f3-b0e1-e2f3fadffa8c",
   "metadata": {},
   "outputs": [
    {
     "data": {
      "text/plain": [
       "['Rhea', 'Aditya', 'Avantika', 'Renee', 'Pihu']"
      ]
     },
     "execution_count": 2,
     "metadata": {},
     "output_type": "execute_result"
    }
   ],
   "source": [
    "Name = [\"Rhea\",\"Aditya\",\"Avantika\",\"Renee\",\"Pihu\"]\n",
    "Name"
   ]
  },
  {
   "cell_type": "code",
   "execution_count": 3,
   "id": "85f2dd62-2231-4ffd-a81e-260d9f099167",
   "metadata": {},
   "outputs": [
    {
     "name": "stdout",
     "output_type": "stream",
     "text": [
      "1        Rhea\n",
      "2      Aditya\n",
      "3    Avantika\n",
      "4       Renee\n",
      "5        Pihu\n",
      "dtype: object\n"
     ]
    }
   ],
   "source": [
    "Roll_list = pd.Series(Name,index=[1,2,3,4,5])\n",
    "print(Roll_list)"
   ]
  },
  {
   "cell_type": "markdown",
   "id": "bf392528-13e6-4cfa-bc80-c1d5105db647",
   "metadata": {},
   "source": []
  },
  {
   "cell_type": "markdown",
   "id": "c20aa16d-68da-4dff-8828-8ed5a77b8cfb",
   "metadata": {},
   "source": [
    "# Creating a Data Frame"
   ]
  },
  {
   "cell_type": "code",
   "execution_count": 5,
   "id": "e7e554b4-096f-41dc-ad58-035536216c4a",
   "metadata": {},
   "outputs": [],
   "source": [
    "df = pd.DataFrame([[10,12,14,16],[11,18,15,21],[12,13,14,15]],\n",
    "    columns = [\"CD\",\"DBMS\",\"DSS\",\"CAO\"])"
   ]
  },
  {
   "cell_type": "code",
   "execution_count": 6,
   "id": "b1697c40-ea62-4160-a7c6-c94d517b736b",
   "metadata": {},
   "outputs": [
    {
     "data": {
      "text/html": [
       "<div>\n",
       "<style scoped>\n",
       "    .dataframe tbody tr th:only-of-type {\n",
       "        vertical-align: middle;\n",
       "    }\n",
       "\n",
       "    .dataframe tbody tr th {\n",
       "        vertical-align: top;\n",
       "    }\n",
       "\n",
       "    .dataframe thead th {\n",
       "        text-align: right;\n",
       "    }\n",
       "</style>\n",
       "<table border=\"1\" class=\"dataframe\">\n",
       "  <thead>\n",
       "    <tr style=\"text-align: right;\">\n",
       "      <th></th>\n",
       "      <th>CD</th>\n",
       "      <th>DBMS</th>\n",
       "      <th>DSS</th>\n",
       "      <th>CAO</th>\n",
       "    </tr>\n",
       "  </thead>\n",
       "  <tbody>\n",
       "    <tr>\n",
       "      <th>0</th>\n",
       "      <td>10</td>\n",
       "      <td>12</td>\n",
       "      <td>14</td>\n",
       "      <td>16</td>\n",
       "    </tr>\n",
       "    <tr>\n",
       "      <th>1</th>\n",
       "      <td>11</td>\n",
       "      <td>18</td>\n",
       "      <td>15</td>\n",
       "      <td>21</td>\n",
       "    </tr>\n",
       "    <tr>\n",
       "      <th>2</th>\n",
       "      <td>12</td>\n",
       "      <td>13</td>\n",
       "      <td>14</td>\n",
       "      <td>15</td>\n",
       "    </tr>\n",
       "  </tbody>\n",
       "</table>\n",
       "</div>"
      ],
      "text/plain": [
       "   CD  DBMS  DSS  CAO\n",
       "0  10    12   14   16\n",
       "1  11    18   15   21\n",
       "2  12    13   14   15"
      ]
     },
     "execution_count": 6,
     "metadata": {},
     "output_type": "execute_result"
    }
   ],
   "source": [
    "df"
   ]
  },
  {
   "cell_type": "code",
   "execution_count": 7,
   "id": "a5beb179-789a-42e6-81e4-6268b34178fe",
   "metadata": {},
   "outputs": [
    {
     "data": {
      "text/plain": [
       "(3, 4)"
      ]
     },
     "execution_count": 7,
     "metadata": {},
     "output_type": "execute_result"
    }
   ],
   "source": [
    "df.shape"
   ]
  },
  {
   "cell_type": "code",
   "execution_count": 8,
   "id": "f86a2fdb-2f5f-4fc7-85f9-62a24451c37a",
   "metadata": {},
   "outputs": [
    {
     "data": {
      "text/plain": [
       "12"
      ]
     },
     "execution_count": 8,
     "metadata": {},
     "output_type": "execute_result"
    }
   ],
   "source": [
    "df.size"
   ]
  },
  {
   "cell_type": "code",
   "execution_count": 9,
   "id": "c1bb3d91-2399-432a-b6bf-1a7b980479eb",
   "metadata": {},
   "outputs": [
    {
     "data": {
      "text/plain": [
       "2"
      ]
     },
     "execution_count": 9,
     "metadata": {},
     "output_type": "execute_result"
    }
   ],
   "source": [
    "df.ndim"
   ]
  },
  {
   "cell_type": "markdown",
   "id": "b888d8b8-90e2-4bfa-93a7-b96d98a1ba92",
   "metadata": {},
   "source": [
    "# Adding a record (row) to the dataframe"
   ]
  },
  {
   "cell_type": "code",
   "execution_count": 11,
   "id": "617924aa-2920-418c-9579-b31c6e0f8eba",
   "metadata": {},
   "outputs": [],
   "source": [
    "df2 = pd.DataFrame([[5,6,7,8]],\n",
    "columns = [\"CD\",\"DBMS\",\"DSS\",\"CAO\"])"
   ]
  },
  {
   "cell_type": "code",
   "execution_count": 16,
   "id": "618ab5cc-cb29-49eb-a88a-6e11094ead6c",
   "metadata": {},
   "outputs": [],
   "source": [
    "\n",
    "df3 = pd.concat([df, df2], ignore_index=True)"
   ]
  },
  {
   "cell_type": "code",
   "execution_count": 17,
   "id": "9451da87-c0b3-48de-acd5-89aaf69c928a",
   "metadata": {},
   "outputs": [
    {
     "data": {
      "text/html": [
       "<div>\n",
       "<style scoped>\n",
       "    .dataframe tbody tr th:only-of-type {\n",
       "        vertical-align: middle;\n",
       "    }\n",
       "\n",
       "    .dataframe tbody tr th {\n",
       "        vertical-align: top;\n",
       "    }\n",
       "\n",
       "    .dataframe thead th {\n",
       "        text-align: right;\n",
       "    }\n",
       "</style>\n",
       "<table border=\"1\" class=\"dataframe\">\n",
       "  <thead>\n",
       "    <tr style=\"text-align: right;\">\n",
       "      <th></th>\n",
       "      <th>CD</th>\n",
       "      <th>DBMS</th>\n",
       "      <th>DSS</th>\n",
       "      <th>CAO</th>\n",
       "    </tr>\n",
       "  </thead>\n",
       "  <tbody>\n",
       "    <tr>\n",
       "      <th>0</th>\n",
       "      <td>10</td>\n",
       "      <td>12</td>\n",
       "      <td>14</td>\n",
       "      <td>16</td>\n",
       "    </tr>\n",
       "    <tr>\n",
       "      <th>1</th>\n",
       "      <td>11</td>\n",
       "      <td>18</td>\n",
       "      <td>15</td>\n",
       "      <td>21</td>\n",
       "    </tr>\n",
       "    <tr>\n",
       "      <th>2</th>\n",
       "      <td>12</td>\n",
       "      <td>13</td>\n",
       "      <td>14</td>\n",
       "      <td>15</td>\n",
       "    </tr>\n",
       "    <tr>\n",
       "      <th>3</th>\n",
       "      <td>5</td>\n",
       "      <td>6</td>\n",
       "      <td>7</td>\n",
       "      <td>8</td>\n",
       "    </tr>\n",
       "  </tbody>\n",
       "</table>\n",
       "</div>"
      ],
      "text/plain": [
       "   CD  DBMS  DSS  CAO\n",
       "0  10    12   14   16\n",
       "1  11    18   15   21\n",
       "2  12    13   14   15\n",
       "3   5     6    7    8"
      ]
     },
     "execution_count": 17,
     "metadata": {},
     "output_type": "execute_result"
    }
   ],
   "source": [
    "df3"
   ]
  },
  {
   "cell_type": "code",
   "execution_count": 18,
   "id": "95c838ab-f03f-4ceb-b711-fb2ed2a200b3",
   "metadata": {},
   "outputs": [
    {
     "data": {
      "text/plain": [
       "(4, 4)"
      ]
     },
     "execution_count": 18,
     "metadata": {},
     "output_type": "execute_result"
    }
   ],
   "source": [
    "df3.shape"
   ]
  },
  {
   "cell_type": "code",
   "execution_count": 19,
   "id": "66d4ccf2-aab9-42cb-9be8-2560200dfe44",
   "metadata": {},
   "outputs": [
    {
     "data": {
      "text/plain": [
       "16"
      ]
     },
     "execution_count": 19,
     "metadata": {},
     "output_type": "execute_result"
    }
   ],
   "source": [
    "df3.size"
   ]
  },
  {
   "cell_type": "code",
   "execution_count": 21,
   "id": "4dcf76f3-1596-485c-99f3-fae1724e47cf",
   "metadata": {},
   "outputs": [
    {
     "data": {
      "text/plain": [
       "2"
      ]
     },
     "execution_count": 21,
     "metadata": {},
     "output_type": "execute_result"
    }
   ],
   "source": [
    "df3.ndim"
   ]
  },
  {
   "cell_type": "markdown",
   "id": "fca2f7c1-d29a-42af-8a43-570b83208125",
   "metadata": {},
   "source": [
    "# Adding attribute (column) name DM"
   ]
  },
  {
   "cell_type": "code",
   "execution_count": 22,
   "id": "72c266e5-9f89-4998-bd18-dd7a6981161b",
   "metadata": {},
   "outputs": [],
   "source": [
    "df3[\"DM\"]=[12,15,16,14]"
   ]
  },
  {
   "cell_type": "code",
   "execution_count": 23,
   "id": "3f4bd22c-4109-476c-b05b-5c958d528e65",
   "metadata": {},
   "outputs": [
    {
     "data": {
      "text/html": [
       "<div>\n",
       "<style scoped>\n",
       "    .dataframe tbody tr th:only-of-type {\n",
       "        vertical-align: middle;\n",
       "    }\n",
       "\n",
       "    .dataframe tbody tr th {\n",
       "        vertical-align: top;\n",
       "    }\n",
       "\n",
       "    .dataframe thead th {\n",
       "        text-align: right;\n",
       "    }\n",
       "</style>\n",
       "<table border=\"1\" class=\"dataframe\">\n",
       "  <thead>\n",
       "    <tr style=\"text-align: right;\">\n",
       "      <th></th>\n",
       "      <th>CD</th>\n",
       "      <th>DBMS</th>\n",
       "      <th>DSS</th>\n",
       "      <th>CAO</th>\n",
       "      <th>DM</th>\n",
       "    </tr>\n",
       "  </thead>\n",
       "  <tbody>\n",
       "    <tr>\n",
       "      <th>0</th>\n",
       "      <td>10</td>\n",
       "      <td>12</td>\n",
       "      <td>14</td>\n",
       "      <td>16</td>\n",
       "      <td>12</td>\n",
       "    </tr>\n",
       "    <tr>\n",
       "      <th>1</th>\n",
       "      <td>11</td>\n",
       "      <td>18</td>\n",
       "      <td>15</td>\n",
       "      <td>21</td>\n",
       "      <td>15</td>\n",
       "    </tr>\n",
       "    <tr>\n",
       "      <th>2</th>\n",
       "      <td>12</td>\n",
       "      <td>13</td>\n",
       "      <td>14</td>\n",
       "      <td>15</td>\n",
       "      <td>16</td>\n",
       "    </tr>\n",
       "    <tr>\n",
       "      <th>3</th>\n",
       "      <td>5</td>\n",
       "      <td>6</td>\n",
       "      <td>7</td>\n",
       "      <td>8</td>\n",
       "      <td>14</td>\n",
       "    </tr>\n",
       "  </tbody>\n",
       "</table>\n",
       "</div>"
      ],
      "text/plain": [
       "   CD  DBMS  DSS  CAO  DM\n",
       "0  10    12   14   16  12\n",
       "1  11    18   15   21  15\n",
       "2  12    13   14   15  16\n",
       "3   5     6    7    8  14"
      ]
     },
     "execution_count": 23,
     "metadata": {},
     "output_type": "execute_result"
    }
   ],
   "source": [
    "df3"
   ]
  },
  {
   "cell_type": "markdown",
   "id": "9cd19017-8fd4-4c02-9cf9-81bb7ce93fac",
   "metadata": {},
   "source": [
    "# Deleting Record from df3 dataframe"
   ]
  },
  {
   "cell_type": "code",
   "execution_count": 29,
   "id": "0a650e12-8693-44dc-af97-f48de9c2bc03",
   "metadata": {},
   "outputs": [],
   "source": [
    "df4 =df3.drop(index=[1])"
   ]
  },
  {
   "cell_type": "code",
   "execution_count": 30,
   "id": "b1c3519a-9244-4495-913b-f116ee199b19",
   "metadata": {},
   "outputs": [
    {
     "data": {
      "text/html": [
       "<div>\n",
       "<style scoped>\n",
       "    .dataframe tbody tr th:only-of-type {\n",
       "        vertical-align: middle;\n",
       "    }\n",
       "\n",
       "    .dataframe tbody tr th {\n",
       "        vertical-align: top;\n",
       "    }\n",
       "\n",
       "    .dataframe thead th {\n",
       "        text-align: right;\n",
       "    }\n",
       "</style>\n",
       "<table border=\"1\" class=\"dataframe\">\n",
       "  <thead>\n",
       "    <tr style=\"text-align: right;\">\n",
       "      <th></th>\n",
       "      <th>CD</th>\n",
       "      <th>DBMS</th>\n",
       "      <th>DSS</th>\n",
       "      <th>CAO</th>\n",
       "      <th>DM</th>\n",
       "    </tr>\n",
       "  </thead>\n",
       "  <tbody>\n",
       "    <tr>\n",
       "      <th>0</th>\n",
       "      <td>10</td>\n",
       "      <td>12</td>\n",
       "      <td>14</td>\n",
       "      <td>16</td>\n",
       "      <td>12</td>\n",
       "    </tr>\n",
       "    <tr>\n",
       "      <th>2</th>\n",
       "      <td>12</td>\n",
       "      <td>13</td>\n",
       "      <td>14</td>\n",
       "      <td>15</td>\n",
       "      <td>16</td>\n",
       "    </tr>\n",
       "    <tr>\n",
       "      <th>3</th>\n",
       "      <td>5</td>\n",
       "      <td>6</td>\n",
       "      <td>7</td>\n",
       "      <td>8</td>\n",
       "      <td>14</td>\n",
       "    </tr>\n",
       "  </tbody>\n",
       "</table>\n",
       "</div>"
      ],
      "text/plain": [
       "   CD  DBMS  DSS  CAO  DM\n",
       "0  10    12   14   16  12\n",
       "2  12    13   14   15  16\n",
       "3   5     6    7    8  14"
      ]
     },
     "execution_count": 30,
     "metadata": {},
     "output_type": "execute_result"
    }
   ],
   "source": [
    "df4"
   ]
  },
  {
   "cell_type": "markdown",
   "id": "7a2aab59-d2ce-4b8a-b698-73a7868c3b44",
   "metadata": {},
   "source": [
    "# Deleting Attribute (columns) fromdf3 dataframe "
   ]
  },
  {
   "cell_type": "code",
   "execution_count": 31,
   "id": "85a9ef7b-1f37-412f-b8b2-bfbc222d9c5d",
   "metadata": {},
   "outputs": [],
   "source": [
    "df5= df3.drop(columns=[\"DM\"])"
   ]
  },
  {
   "cell_type": "code",
   "execution_count": 32,
   "id": "4509f9c4-8865-4c11-8867-e1e9a1520618",
   "metadata": {},
   "outputs": [
    {
     "data": {
      "text/html": [
       "<div>\n",
       "<style scoped>\n",
       "    .dataframe tbody tr th:only-of-type {\n",
       "        vertical-align: middle;\n",
       "    }\n",
       "\n",
       "    .dataframe tbody tr th {\n",
       "        vertical-align: top;\n",
       "    }\n",
       "\n",
       "    .dataframe thead th {\n",
       "        text-align: right;\n",
       "    }\n",
       "</style>\n",
       "<table border=\"1\" class=\"dataframe\">\n",
       "  <thead>\n",
       "    <tr style=\"text-align: right;\">\n",
       "      <th></th>\n",
       "      <th>CD</th>\n",
       "      <th>DBMS</th>\n",
       "      <th>DSS</th>\n",
       "      <th>CAO</th>\n",
       "    </tr>\n",
       "  </thead>\n",
       "  <tbody>\n",
       "    <tr>\n",
       "      <th>0</th>\n",
       "      <td>10</td>\n",
       "      <td>12</td>\n",
       "      <td>14</td>\n",
       "      <td>16</td>\n",
       "    </tr>\n",
       "    <tr>\n",
       "      <th>1</th>\n",
       "      <td>11</td>\n",
       "      <td>18</td>\n",
       "      <td>15</td>\n",
       "      <td>21</td>\n",
       "    </tr>\n",
       "    <tr>\n",
       "      <th>2</th>\n",
       "      <td>12</td>\n",
       "      <td>13</td>\n",
       "      <td>14</td>\n",
       "      <td>15</td>\n",
       "    </tr>\n",
       "    <tr>\n",
       "      <th>3</th>\n",
       "      <td>5</td>\n",
       "      <td>6</td>\n",
       "      <td>7</td>\n",
       "      <td>8</td>\n",
       "    </tr>\n",
       "  </tbody>\n",
       "</table>\n",
       "</div>"
      ],
      "text/plain": [
       "   CD  DBMS  DSS  CAO\n",
       "0  10    12   14   16\n",
       "1  11    18   15   21\n",
       "2  12    13   14   15\n",
       "3   5     6    7    8"
      ]
     },
     "execution_count": 32,
     "metadata": {},
     "output_type": "execute_result"
    }
   ],
   "source": [
    "df5"
   ]
  },
  {
   "cell_type": "code",
   "execution_count": 33,
   "id": "5cf05210-e03b-4253-9297-38976261640e",
   "metadata": {},
   "outputs": [
    {
     "name": "stdout",
     "output_type": "stream",
     "text": [
      "Mean of DSS: 12.5\n"
     ]
    }
   ],
   "source": [
    "print(\"Mean of DSS:\", df5[\"DSS\"].mean())"
   ]
  },
  {
   "cell_type": "code",
   "execution_count": 34,
   "id": "fa447853-1bc7-49d7-b299-d04ece20dc4a",
   "metadata": {},
   "outputs": [
    {
     "name": "stdout",
     "output_type": "stream",
     "text": [
      "Median of DSS: 14.0\n",
      "Mode of DSS: 0    14\n",
      "Name: DSS, dtype: int64\n"
     ]
    }
   ],
   "source": [
    "print(\"Median of DSS:\", df5[\"DSS\"].median())\n",
    "print(\"Mode of DSS:\", df5[\"DSS\"].mode())"
   ]
  },
  {
   "cell_type": "code",
   "execution_count": null,
   "id": "f3fdeda5-6a3b-462c-80f2-69a60a160a0f",
   "metadata": {},
   "outputs": [],
   "source": []
  }
 ],
 "metadata": {
  "kernelspec": {
   "display_name": "Python [conda env:base] *",
   "language": "python",
   "name": "conda-base-py"
  },
  "language_info": {
   "codemirror_mode": {
    "name": "ipython",
    "version": 3
   },
   "file_extension": ".py",
   "mimetype": "text/x-python",
   "name": "python",
   "nbconvert_exporter": "python",
   "pygments_lexer": "ipython3",
   "version": "3.13.5"
  }
 },
 "nbformat": 4,
 "nbformat_minor": 5
}
