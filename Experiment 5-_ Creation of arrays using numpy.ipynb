{
 "cells": [
  {
   "cell_type": "code",
   "execution_count": 1,
   "id": "4099f229-2dd2-41df-8c8c-aa8996430d91",
   "metadata": {},
   "outputs": [],
   "source": [
    "# Exp no.: 5"
   ]
  },
  {
   "cell_type": "code",
   "execution_count": 2,
   "id": "26a12d0a-2ab4-4d64-9632-009299a52ca3",
   "metadata": {},
   "outputs": [],
   "source": [
    "#Aim: To create array using numpy"
   ]
  },
  {
   "cell_type": "code",
   "execution_count": 3,
   "id": "fed66432-87df-4277-98cf-515709458a29",
   "metadata": {},
   "outputs": [],
   "source": [
    "# Name: Gouri Pandey"
   ]
  },
  {
   "cell_type": "code",
   "execution_count": 4,
   "id": "8d1c5c92-48ec-4785-85e6-33cf6d9dcb73",
   "metadata": {},
   "outputs": [],
   "source": [
    "# Roll no : 46"
   ]
  },
  {
   "cell_type": "code",
   "execution_count": 5,
   "id": "30fe873c-9dbc-4818-9fd4-4326d3d32a93",
   "metadata": {},
   "outputs": [],
   "source": [
    "# sec: B"
   ]
  },
  {
   "cell_type": "code",
   "execution_count": 6,
   "id": "7fe1f06f-af36-45b3-81db-29fdeed00883",
   "metadata": {},
   "outputs": [],
   "source": [
    "# subject: DSS ( Data science and statistics )"
   ]
  },
  {
   "cell_type": "code",
   "execution_count": 8,
   "id": "c27d1767-63aa-4aa5-b93f-8cac59fb995e",
   "metadata": {},
   "outputs": [],
   "source": [
    "# Importing the basic Library"
   ]
  },
  {
   "cell_type": "code",
   "execution_count": 9,
   "id": "40b8d9d1-cb62-4fb5-866c-8cfc5349e42e",
   "metadata": {},
   "outputs": [],
   "source": [
    "import numpy as np"
   ]
  },
  {
   "cell_type": "code",
   "execution_count": 10,
   "id": "b20009f8-18cb-4500-94f0-01f2d082b393",
   "metadata": {},
   "outputs": [
    {
     "name": "stdout",
     "output_type": "stream",
     "text": [
      "1D Array: [1 2 3 4 5]\n"
     ]
    }
   ],
   "source": [
    "arr1 = np.array([1, 2, 3, 4, 5])\n",
    "print(\"1D Array:\", arr1)"
   ]
  },
  {
   "cell_type": "code",
   "execution_count": 11,
   "id": "f72a5c9d-bcc7-4a93-9ff5-9d1753b7e0a6",
   "metadata": {},
   "outputs": [
    {
     "name": "stdout",
     "output_type": "stream",
     "text": [
      "\n",
      "2D Array:\n",
      " [[1 2 3]\n",
      " [4 5 6]]\n"
     ]
    }
   ],
   "source": [
    "arr2 = np.array([[1, 2, 3], [4, 5, 6]])\n",
    "print(\"\\n2D Array:\\n\", arr2)\n"
   ]
  },
  {
   "cell_type": "code",
   "execution_count": 12,
   "id": "60e4dbe4-5b84-4f1c-81f4-54dfd53b3eea",
   "metadata": {},
   "outputs": [
    {
     "name": "stdout",
     "output_type": "stream",
     "text": [
      "\n",
      "Random Array:\n",
      " [[0.6101354  0.13484643]\n",
      " [0.25849431 0.12222744]]\n"
     ]
    }
   ],
   "source": [
    "rand_arr = np.random.rand(2, 2)\n",
    "print(\"\\nRandom Array:\\n\", rand_arr)"
   ]
  },
  {
   "cell_type": "code",
   "execution_count": 13,
   "id": "24685e25-f50b-40f6-94b4-15395f38cc32",
   "metadata": {},
   "outputs": [
    {
     "name": "stdout",
     "output_type": "stream",
     "text": [
      "\n",
      "Array + 10: [11 12 13 14 15]\n"
     ]
    }
   ],
   "source": [
    "sum_arr = arr1 + 10\n",
    "print(\"\\nArray + 10:\", sum_arr)\n"
   ]
  },
  {
   "cell_type": "code",
   "execution_count": null,
   "id": "6770562c-a5ce-4d4b-8928-452583640464",
   "metadata": {},
   "outputs": [],
   "source": [
    "# Array slicing\n",
    "print(\"\\nFirst three elements:\", arr1[:3])"
   ]
  }
 ],
 "metadata": {
  "kernelspec": {
   "display_name": "Python [conda env:base] *",
   "language": "python",
   "name": "conda-base-py"
  },
  "language_info": {
   "codemirror_mode": {
    "name": "ipython",
    "version": 3
   },
   "file_extension": ".py",
   "mimetype": "text/x-python",
   "name": "python",
   "nbconvert_exporter": "python",
   "pygments_lexer": "ipython3",
   "version": "3.13.5"
  }
 },
 "nbformat": 4,
 "nbformat_minor": 5
}
