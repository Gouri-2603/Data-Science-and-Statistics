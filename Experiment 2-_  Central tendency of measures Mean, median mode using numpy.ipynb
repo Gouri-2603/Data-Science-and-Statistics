{
 "cells": [
  {
   "cell_type": "code",
   "execution_count": 2,
   "id": "5ca32f28-2464-4a7d-aa2c-6dcfa676de22",
   "metadata": {},
   "outputs": [],
   "source": [
    "# Exp no.: 2"
   ]
  },
  {
   "cell_type": "code",
   "execution_count": null,
   "id": "89dddb6d-f52b-4bcc-a47e-4633514cddaf",
   "metadata": {},
   "outputs": [],
   "source": [
    "#Aim: To perform "
   ]
  },
  {
   "cell_type": "code",
   "execution_count": null,
   "id": "203acff4-e69e-41a8-a379-174b4d9a1d96",
   "metadata": {},
   "outputs": [],
   "source": [
    "# Name: Gouri Pandey"
   ]
  },
  {
   "cell_type": "code",
   "execution_count": null,
   "id": "7f61432a-a253-40d6-8ba3-0ba3a133eb24",
   "metadata": {},
   "outputs": [],
   "source": [
    "# Roll no : 46"
   ]
  },
  {
   "cell_type": "code",
   "execution_count": null,
   "id": "0da99cce-80b2-4290-b72f-af62fdc20dc9",
   "metadata": {},
   "outputs": [],
   "source": [
    "# sec: B"
   ]
  },
  {
   "cell_type": "code",
   "execution_count": null,
   "id": "b341d34c-5b21-44f0-bad3-983a6f1ddef1",
   "metadata": {},
   "outputs": [],
   "source": [
    "# subject: DSS ( Data science and statistics )"
   ]
  },
  {
   "cell_type": "code",
   "execution_count": null,
   "id": "23968dc7-345a-41ca-846c-1a97c50c9850",
   "metadata": {},
   "outputs": [],
   "source": [
    "age=[22,21,20,20,21,21,21,21,10,10,10,21,23,24,23,22,22,22,22]"
   ]
  },
  {
   "cell_type": "code",
   "execution_count": 3,
   "id": "e15a3175-f625-4f12-9bf8-b7a01087c0ba",
   "metadata": {},
   "outputs": [
    {
     "data": {
      "text/plain": [
       "[22, 21, 20, 20, 21, 21, 21, 21, 10, 10, 10, 21, 23, 24, 23, 22, 22, 22, 22]"
      ]
     },
     "execution_count": 3,
     "metadata": {},
     "output_type": "execute_result"
    }
   ],
   "source": [
    "age"
   ]
  },
  {
   "cell_type": "code",
   "execution_count": 4,
   "id": "739f5996-3fdc-4aac-aea0-9a000d7b5301",
   "metadata": {},
   "outputs": [],
   "source": [
    "import statistics\n",
    "from scipy import stats"
   ]
  },
  {
   "cell_type": "code",
   "execution_count": null,
   "id": "9a329300-56e2-4bc8-b5e7-845e03bb4373",
   "metadata": {},
   "outputs": [],
   "source": [
    "import statistics\n",
    "from scipy import stats"
   ]
  },
  {
   "cell_type": "code",
   "execution_count": 5,
   "id": "78ddbfef-ae35-4c9e-9776-d457dbe3496f",
   "metadata": {},
   "outputs": [],
   "source": [
    "Mean = statistics.mean(age)"
   ]
  },
  {
   "cell_type": "code",
   "execution_count": 6,
   "id": "bb039931-cb37-4cfd-a12d-ac2cf657b43d",
   "metadata": {},
   "outputs": [
    {
     "data": {
      "text/plain": [
       "19.789473684210527"
      ]
     },
     "execution_count": 6,
     "metadata": {},
     "output_type": "execute_result"
    }
   ],
   "source": [
    "Mean"
   ]
  },
  {
   "cell_type": "code",
   "execution_count": 7,
   "id": "97a1560e-b23f-448e-9391-90f7e0aa724a",
   "metadata": {},
   "outputs": [],
   "source": [
    "median = statistics.median(age)"
   ]
  },
  {
   "cell_type": "code",
   "execution_count": 8,
   "id": "f117b91e-4949-402f-bae1-564215a81e0d",
   "metadata": {},
   "outputs": [
    {
     "data": {
      "text/plain": [
       "21"
      ]
     },
     "execution_count": 8,
     "metadata": {},
     "output_type": "execute_result"
    }
   ],
   "source": [
    "median"
   ]
  },
  {
   "cell_type": "code",
   "execution_count": 9,
   "id": "388baf16-0feb-4e75-ab59-5fce9f4d06ef",
   "metadata": {},
   "outputs": [],
   "source": [
    "mode = statistics.mode(age)"
   ]
  },
  {
   "cell_type": "code",
   "execution_count": 10,
   "id": "875eb2ed-1e4b-4f90-b5ad-49da619ae3ce",
   "metadata": {},
   "outputs": [
    {
     "data": {
      "text/plain": [
       "21"
      ]
     },
     "execution_count": 10,
     "metadata": {},
     "output_type": "execute_result"
    }
   ],
   "source": [
    "mode"
   ]
  },
  {
   "cell_type": "code",
   "execution_count": 11,
   "id": "358a6990-c7d0-47f0-bea2-ec2bfe9b5380",
   "metadata": {},
   "outputs": [],
   "source": [
    "import numpy as np\n",
    "x = np.array([1,2,3,4,5,6,7,2,5,1,2,5,5])"
   ]
  },
  {
   "cell_type": "code",
   "execution_count": 12,
   "id": "d38144ad-bf92-4e43-b137-ae766107c44e",
   "metadata": {},
   "outputs": [
    {
     "data": {
      "text/plain": [
       "array([1, 2, 3, 4, 5, 6, 7, 2, 5, 1, 2, 5, 5])"
      ]
     },
     "execution_count": 12,
     "metadata": {},
     "output_type": "execute_result"
    }
   ],
   "source": [
    "x"
   ]
  },
  {
   "cell_type": "code",
   "execution_count": 13,
   "id": "90c32574-c60b-4d19-8ff5-acb98cab14d8",
   "metadata": {},
   "outputs": [
    {
     "name": "stdout",
     "output_type": "stream",
     "text": [
      "3.6923076923076925\n"
     ]
    }
   ],
   "source": [
    "print(np.mean(x))"
   ]
  },
  {
   "cell_type": "code",
   "execution_count": 14,
   "id": "629bd860-a134-4c81-80b8-ba8cfc6daa08",
   "metadata": {},
   "outputs": [
    {
     "name": "stdout",
     "output_type": "stream",
     "text": [
      "4.0\n"
     ]
    }
   ],
   "source": [
    "print(np.median(x))"
   ]
  },
  {
   "cell_type": "code",
   "execution_count": 17,
   "id": "79049ffa-c585-4ff3-b706-ccc249380751",
   "metadata": {},
   "outputs": [],
   "source": [
    "from scipy import stats"
   ]
  },
  {
   "cell_type": "code",
   "execution_count": 18,
   "id": "432a46db-f530-45e6-acc6-bbbb81a6b4e1",
   "metadata": {},
   "outputs": [
    {
     "name": "stdout",
     "output_type": "stream",
     "text": [
      "ModeResult(mode=np.int64(5), count=np.int64(4))\n"
     ]
    }
   ],
   "source": [
    "print(stats.mode(x))"
   ]
  },
  {
   "cell_type": "code",
   "execution_count": 19,
   "id": "83b4ebd2-9ca9-44e7-a757-47b746cac840",
   "metadata": {},
   "outputs": [
    {
     "name": "stdout",
     "output_type": "stream",
     "text": [
      "1.8967427701443007\n"
     ]
    }
   ],
   "source": [
    "print(np.std(x))"
   ]
  },
  {
   "cell_type": "code",
   "execution_count": 20,
   "id": "e46eb161-695c-4918-b5e0-e6926de58487",
   "metadata": {},
   "outputs": [
    {
     "name": "stdout",
     "output_type": "stream",
     "text": [
      "3.8974358974358982\n"
     ]
    }
   ],
   "source": [
    "print(stats.tvar(x))"
   ]
  },
  {
   "cell_type": "code",
   "execution_count": null,
   "id": "132bd3cf-30a6-47e5-bab6-523f8433c416",
   "metadata": {},
   "outputs": [],
   "source": []
  }
 ],
 "metadata": {
  "kernelspec": {
   "display_name": "Python [conda env:base] *",
   "language": "python",
   "name": "conda-base-py"
  },
  "language_info": {
   "codemirror_mode": {
    "name": "ipython",
    "version": 3
   },
   "file_extension": ".py",
   "mimetype": "text/x-python",
   "name": "python",
   "nbconvert_exporter": "python",
   "pygments_lexer": "ipython3",
   "version": "3.13.5"
  }
 },
 "nbformat": 4,
 "nbformat_minor": 5
}
