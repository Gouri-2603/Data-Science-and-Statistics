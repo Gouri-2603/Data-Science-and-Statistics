{
 "cells": [
  {
   "cell_type": "code",
   "execution_count": 1,
   "id": "9270b7d1-cf94-49b7-8806-f68a8574fcfd",
   "metadata": {},
   "outputs": [],
   "source": [
    "# Exp no.: 1"
   ]
  },
  {
   "cell_type": "code",
   "execution_count": 2,
   "id": "156ddd60-33ce-4cff-893d-2886cdb686c3",
   "metadata": {},
   "outputs": [],
   "source": [
    "#Aim: To perform operation of data aquisition"
   ]
  },
  {
   "cell_type": "code",
   "execution_count": 3,
   "id": "45de5b26-aac3-430b-a3b6-0a18a973d296",
   "metadata": {},
   "outputs": [],
   "source": [
    "# Name: Gouri Pandey"
   ]
  },
  {
   "cell_type": "code",
   "execution_count": 4,
   "id": "93211677-26f2-453a-8e20-59ea4fafae35",
   "metadata": {},
   "outputs": [],
   "source": [
    "# Roll no : 46"
   ]
  },
  {
   "cell_type": "code",
   "execution_count": 5,
   "id": "0246ae0b-ee72-4ca0-9e52-41dcbe601578",
   "metadata": {},
   "outputs": [],
   "source": [
    "# sec: B"
   ]
  },
  {
   "cell_type": "code",
   "execution_count": 6,
   "id": "dd4d8a1b-6baa-4ad6-aa78-14774eede49a",
   "metadata": {},
   "outputs": [],
   "source": [
    "# subject: DSS ( Data science and statistics )"
   ]
  },
  {
   "cell_type": "code",
   "execution_count": 7,
   "id": "7195d595-4037-44a8-93ae-209cd6391269",
   "metadata": {},
   "outputs": [],
   "source": [
    "# Importing the basic Library"
   ]
  },
  {
   "cell_type": "code",
   "execution_count": 8,
   "id": "ab68ce03-f962-4ed5-998b-3cb746ba4da4",
   "metadata": {},
   "outputs": [],
   "source": [
    "import pandas as pd"
   ]
  },
  {
   "cell_type": "code",
   "execution_count": 9,
   "id": "f16a734b-2e81-4cb6-a218-657db8453e46",
   "metadata": {},
   "outputs": [],
   "source": [
    "import os"
   ]
  },
  {
   "cell_type": "code",
   "execution_count": 10,
   "id": "1434d7d6-bb74-4cf0-a8ba-186a1914bf82",
   "metadata": {},
   "outputs": [
    {
     "data": {
      "text/plain": [
       "'/Users/gouriprafulpandey'"
      ]
     },
     "execution_count": 10,
     "metadata": {},
     "output_type": "execute_result"
    }
   ],
   "source": [
    "os.getcwd()"
   ]
  },
  {
   "cell_type": "code",
   "execution_count": 18,
   "id": "6989fa7f-cc5e-48ee-ae2a-668eab74f323",
   "metadata": {},
   "outputs": [],
   "source": [
    "os.chdir('/Users/gouriprafulpandey/Downloads/')"
   ]
  },
  {
   "cell_type": "code",
   "execution_count": 20,
   "id": "442b7cf2-32c6-4bb1-bab1-6ef971633193",
   "metadata": {},
   "outputs": [],
   "source": [
    "data = pd.read_csv('diabetes (1).csv')"
   ]
  },
  {
   "cell_type": "code",
   "execution_count": 21,
   "id": "d1a612df-7921-4fb5-b23d-c87a37217d30",
   "metadata": {},
   "outputs": [
    {
     "name": "stdout",
     "output_type": "stream",
     "text": [
      "   Pregnancies  Glucose  BloodPressure  SkinThickness  Insulin   BMI  \\\n",
      "0            6      148             72             35        0  33.6   \n",
      "1            1       85             66             29        0  26.6   \n",
      "2            8      183             64              0        0  23.3   \n",
      "3            1       89             66             23       94  28.1   \n",
      "4            0      137             40             35      168  43.1   \n",
      "\n",
      "   DiabetesPedigreeFunction  Age  Outcome  \n",
      "0                     0.627   50        1  \n",
      "1                     0.351   31        0  \n",
      "2                     0.672   32        1  \n",
      "3                     0.167   21        0  \n",
      "4                     2.288   33        1  \n"
     ]
    }
   ],
   "source": [
    "print (data.head())"
   ]
  },
  {
   "cell_type": "code",
   "execution_count": null,
   "id": "354bbf72-4cbe-4d1f-aaa9-0c3f38452d44",
   "metadata": {},
   "outputs": [],
   "source": []
  }
 ],
 "metadata": {
  "kernelspec": {
   "display_name": "Python [conda env:anaconda3]",
   "language": "python",
   "name": "conda-env-anaconda3-py"
  },
  "language_info": {
   "codemirror_mode": {
    "name": "ipython",
    "version": 3
   },
   "file_extension": ".py",
   "mimetype": "text/x-python",
   "name": "python",
   "nbconvert_exporter": "python",
   "pygments_lexer": "ipython3",
   "version": "3.13.5"
  }
 },
 "nbformat": 4,
 "nbformat_minor": 5
}
